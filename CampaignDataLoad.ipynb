{
 "cells": [
  {
   "cell_type": "code",
   "execution_count": 1,
   "id": "a7a09aea",
   "metadata": {},
   "outputs": [],
   "source": [
    "import sqlalchemy\n",
    "from sqlalchemy import create_engine, inspect, text\n",
    "import pandas as pd\n",
    "import numpy as np\n",
    "import seaborn as sns\n",
    "import matplotlib.pyplot as plt"
   ]
  },
  {
   "cell_type": "code",
   "execution_count": 2,
   "id": "9cd248d0",
   "metadata": {},
   "outputs": [],
   "source": [
    "SQL_USERNAME = \"postgres\"\n",
    "SQL_PASSWORD = \"Datascience\"\n",
    "SQL_IP = \"localhost\"\n",
    "PORT = \"5432\"\n",
    "DATABASE = \"crowdfunding_db\""
   ]
  },
  {
   "cell_type": "code",
   "execution_count": 3,
   "id": "cf2886b7",
   "metadata": {},
   "outputs": [],
   "source": [
    "# create engine\n",
    "connection_string = f\"postgresql+psycopg2://{SQL_USERNAME}:{SQL_PASSWORD}@{SQL_IP}:{PORT}/{DATABASE}\"\n",
    "engine = create_engine(connection_string) "
   ]
  },
  {
   "cell_type": "code",
   "execution_count": 4,
   "id": "7e60fc4e",
   "metadata": {},
   "outputs": [
    {
     "name": "stdout",
     "output_type": "stream",
     "text": [
      "CONTACTS\n",
      "contact_id INTEGER\n",
      "first_name VARCHAR\n",
      "last_name VARCHAR\n",
      "email VARCHAR\n",
      "last_updated TIMESTAMP\n",
      "\n",
      "CAMPAIGN\n",
      "cf_id INTEGER\n",
      "contact_id INTEGER\n",
      "company_name VARCHAR\n",
      "description VARCHAR\n",
      "goal DOUBLE PRECISION\n",
      "pledged DOUBLE PRECISION\n",
      "outcome VARCHAR\n",
      "backers_count INTEGER\n",
      "country VARCHAR\n",
      "currency VARCHAR\n",
      "launched_date DATE\n",
      "end_date DATE\n",
      "category_id VARCHAR\n",
      "subcategory_id VARCHAR\n",
      "last_updated TIMESTAMP\n",
      "\n",
      "CATEGORY\n",
      "category_id VARCHAR\n",
      "category VARCHAR\n",
      "last_updated TIMESTAMP\n",
      "\n",
      "SUBCATEGORY\n",
      "subcategory_id VARCHAR\n",
      "subcategory VARCHAR\n",
      "last_updated TIMESTAMP\n",
      "\n"
     ]
    }
   ],
   "source": [
    "# explore and understand the data\n",
    "\n",
    "# Create the inspector and connect it to the engine\n",
    "inspector = inspect(engine)\n",
    "\n",
    "# Collect the names of tables within the database\n",
    "tables = inspector.get_table_names()\n",
    "\n",
    "# Using the inspector to print the column names within each table and its types\n",
    "for table in tables:\n",
    "    print(table)\n",
    "    columns = inspector.get_columns(table)\n",
    "    for column in columns:\n",
    "        print(column[\"name\"], column[\"type\"])\n",
    "        \n",
    "    print()"
   ]
  },
  {
   "cell_type": "code",
   "execution_count": 5,
   "id": "be2fc662",
   "metadata": {},
   "outputs": [
    {
     "name": "stdout",
     "output_type": "stream",
     "text": [
      "(1000, 4)\n"
     ]
    },
    {
     "data": {
      "text/plain": [
       "1000"
      ]
     },
     "execution_count": 5,
     "metadata": {},
     "output_type": "execute_result"
    }
   ],
   "source": [
    "# LOAD DATA\n",
    "filepath = \"Resources/contacts.csv\"\n",
    "df = pd.read_csv(filepath)\n",
    "df.columns = [x.lower() for x in df.columns]\n",
    "print(df.shape)\n",
    "\n",
    "# write to SQL\n",
    "df.to_sql(\"CONTACTS\", schema=\"public\", con=engine, if_exists=\"append\", method=\"multi\", index=False)"
   ]
  },
  {
   "cell_type": "code",
   "execution_count": 6,
   "id": "80bd7097",
   "metadata": {},
   "outputs": [
    {
     "name": "stdout",
     "output_type": "stream",
     "text": [
      "(9, 2)\n"
     ]
    },
    {
     "data": {
      "text/plain": [
       "9"
      ]
     },
     "execution_count": 6,
     "metadata": {},
     "output_type": "execute_result"
    }
   ],
   "source": [
    "# LOAD DATA\n",
    "filepath = \"Resources/category.csv\"\n",
    "df = pd.read_csv(filepath)\n",
    "df.columns = [x.lower() for x in df.columns]\n",
    "print(df.shape)\n",
    "\n",
    "# write to SQL\n",
    "df.to_sql(\"CATEGORY\", schema=\"public\", con=engine, if_exists=\"append\", method=\"multi\", index=False)"
   ]
  },
  {
   "cell_type": "code",
   "execution_count": 7,
   "id": "30335db4",
   "metadata": {},
   "outputs": [
    {
     "name": "stdout",
     "output_type": "stream",
     "text": [
      "(24, 2)\n"
     ]
    },
    {
     "data": {
      "text/plain": [
       "24"
      ]
     },
     "execution_count": 7,
     "metadata": {},
     "output_type": "execute_result"
    }
   ],
   "source": [
    "# LOAD DATA\n",
    "filepath = \"Resources/subcategory.csv\"\n",
    "df = pd.read_csv(filepath)\n",
    "df.columns = [x.lower() for x in df.columns]\n",
    "print(df.shape)\n",
    "\n",
    "# write to SQL\n",
    "df.to_sql(\"SUBCATEGORY\", schema=\"public\", con=engine, if_exists=\"append\", method=\"multi\", index=False)"
   ]
  },
  {
   "cell_type": "code",
   "execution_count": 8,
   "id": "eb6e00be",
   "metadata": {},
   "outputs": [
    {
     "name": "stdout",
     "output_type": "stream",
     "text": [
      "(1000, 14)\n"
     ]
    },
    {
     "data": {
      "text/plain": [
       "1000"
      ]
     },
     "execution_count": 8,
     "metadata": {},
     "output_type": "execute_result"
    }
   ],
   "source": [
    "# LOAD DATA\n",
    "filepath = \"Resources/campaign.csv\"\n",
    "df = pd.read_csv(filepath)\n",
    "df.columns = [x.lower() for x in df.columns]\n",
    "print(df.shape)\n",
    "\n",
    "# write to SQL\n",
    "df.to_sql(\"CAMPAIGN\", schema=\"public\", con=engine, if_exists=\"append\", method=\"multi\", index=False)"
   ]
  },
  {
   "cell_type": "code",
   "execution_count": null,
   "id": "764250dc",
   "metadata": {},
   "outputs": [],
   "source": []
  }
 ],
 "metadata": {
  "kernelspec": {
   "display_name": "Python 3 (ipykernel)",
   "language": "python",
   "name": "python3"
  },
  "language_info": {
   "codemirror_mode": {
    "name": "ipython",
    "version": 3
   },
   "file_extension": ".py",
   "mimetype": "text/x-python",
   "name": "python",
   "nbconvert_exporter": "python",
   "pygments_lexer": "ipython3",
   "version": "3.11.5"
  }
 },
 "nbformat": 4,
 "nbformat_minor": 5
}
